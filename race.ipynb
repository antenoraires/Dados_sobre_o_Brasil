{
 "cells": [
  {
   "cell_type": "code",
   "execution_count": null,
   "metadata": {},
   "outputs": [],
   "source": [
    "#feito no google colab\n",
    "#documentaçao\n",
    "#https://medium.com/dunder-data/bar-chart-race-python-package-official-release-78a420e182a2\n",
    "#https://www.dexplo.org/bar_chart_race/\n",
    "#muito obrigado aos amigos do programacao dinamica \n",
    "!pip -q install bar_chart_race\n",
    "import pandas as pd\n",
    "import bar_chart_race as bcr \n"
   ]
  },
  {
   "cell_type": "code",
   "execution_count": null,
   "metadata": {},
   "outputs": [],
   "source": [
    "df_covid = pd.read_excel('#baixar o arquivo em (https://covid.saude.gov.br/)')\n",
    "#selecionando apenas as informacoes necessarias\n",
    "df_covid.dropna(subset=[\"municipio\"], inplace= True )\n",
    "#df_covid.head()\n",
    "corri =pd.DataFrame(df_covid.groupby([\"regiao\", \"data\"]).sum()['casosAcumulado']).unstack().T.droplevel(level=0)\n",
    "#corri\n",
    "#criando race\n",
    "bcr.bar_chart_race(corri , title= 'Casos covid 19 Regioes ')"
   ]
  },
  {
   "cell_type": "code",
   "execution_count": null,
   "metadata": {},
   "outputs": [],
   "source": [
    "#detalhando race\n",
    "corri_estado =pd.DataFrame(df_covid.groupby([\"estado\", \"data\"]).sum()['casosAcumulado']).unstack().T.droplevel(level=0)\n",
    "bcr.bar_chart_race(corri_estado, title='Casos covid 19 Estados')\n",
    "\n",
    "\n",
    "bcr.bar_chart_race(corri_estado,fixed_order= ['AM','PA','AP','RO', 'AC','TO','RR'], \n",
    "                   period_label={'x': .99, 'y': .25, 'ha': 'right', 'va': 'center'},\n",
    " title= 'Casos de covid 19 nos estados do Norte' )"
   ]
  }
 ],
 "metadata": {
  "kernelspec": {
   "display_name": "Python 3",
   "language": "python",
   "name": "python3"
  },
  "language_info": {
   "codemirror_mode": {
    "name": "ipython",
    "version": 3
   },
   "file_extension": ".py",
   "mimetype": "text/x-python",
   "name": "python",
   "nbconvert_exporter": "python",
   "pygments_lexer": "ipython3",
   "version": "3.7.1"
  }
 },
 "nbformat": 4,
 "nbformat_minor": 2
}
